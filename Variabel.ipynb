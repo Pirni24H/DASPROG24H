{
 "cells": [
  {
   "cell_type": "code",
   "execution_count": 9,
   "id": "c792170d-b450-4e99-aca5-4381424573dd",
   "metadata": {},
   "outputs": [
    {
     "name": "stdout",
     "output_type": "stream",
     "text": [
      "Nama :  Pirni\n",
      "Alamat :  Jl.Malinggut\n",
      "Umur :  20\n",
      "Nilai Pemrograman :  88.9\n",
      "Status Menikah :  False\n",
      "Provinsi :  7413412\n"
     ]
    }
   ],
   "source": [
    "name = \"Pirni\"\n",
    "address, province = \"Jl.Malinggut\",\"7413412\"\n",
    "age = 20\n",
    "scorePyhton = 88.9\n",
    "isMarried = False\n",
    "\n",
    "print(\"Nama : \", name)\n",
    "print(\"Alamat : \", address)\n",
    "print(\"Umur : \", age)\n",
    "print(\"Nilai Pemrograman : \", scorePyhton)\n",
    "print(\"Status Menikah : \", isMarried)\n",
    "print(\"Provinsi : \", province)"
   ]
  },
  {
   "cell_type": "code",
   "execution_count": 7,
   "id": "2a072be1-8e41-4411-aa5d-8df35d2f649e",
   "metadata": {},
   "outputs": [
    {
     "name": "stdout",
     "output_type": "stream",
     "text": [
      "Tipe data <name> :  <class 'str'>\n",
      "Tipe data <address> :  <class 'str'>\n",
      "Tipe data <age> :  <class 'int'>\n",
      "Tipe data <scorePyhton> :  <class 'float'>\n",
      "Tipe data <isMarried> :  <class 'bool'>\n"
     ]
    }
   ],
   "source": [
    "print(\"Tipe data <name> : \", type (name))\n",
    "print(\"Tipe data <address> : \", type (address))\n",
    "print(\"Tipe data <age> : \", type (age))\n",
    "print(\"Tipe data <scorePyhton> : \", type (scorePyhton))\n",
    "print(\"Tipe data <isMarried> : \", type (isMarried))"
   ]
  },
  {
   "cell_type": "code",
   "execution_count": 21,
   "id": "94162094-d2ae-4f29-8fe2-760fef5c4dfe",
   "metadata": {},
   "outputs": [
    {
     "name": "stdout",
     "output_type": "stream",
     "text": [
      "7413414_7413412.0_True\n",
      "20_20.0_True\n",
      "88.9_88_True\n",
      "False_0_0.0\n",
      "Nilai desimal :  500\n",
      "Nilai biner :  10\n",
      "Nilai octal :  255\n",
      "Nilai hexa :  255\n",
      "Nilai Biner dari  500 : 0b111110100\n",
      "Nilai octal dari  500 : 0o764\n",
      "Nilai Hexa dari  500 : 0x1f4\n"
     ]
    }
   ],
   "source": [
    "#Casting/Konversi Tipe Data\n",
    "#1. String ke (int, float, boolean)\n",
    "strToInt = int(province)\n",
    "strToFloat = float(province)\n",
    "strToBool = bool(province)\n",
    "print(strToInt + 2,strToFloat,strToBool, sep=\"_\")\n",
    "\n",
    "#2.  Int ke (str, float, boolean)\n",
    "intToStr = str(age)\n",
    "intToFloat = float(age)\n",
    "intToBool = bool(age)\n",
    "print(intToStr, intToFloat, intToBool, sep=\"_\")\n",
    "\n",
    "#3. float ke (str, int, boolean)\n",
    "floatTostr = str(scorePyhton)\n",
    "floatToint = int(scorePyhton)\n",
    "floatTobool = bool(scorePyhton)\n",
    "print(floatTostr, floatToint, floatTobool, sep=\"_\")\n",
    "\n",
    "#4. Bool ke (int, str, float)\n",
    "boolToStr = str(isMarried)\n",
    "boolToint = int(isMarried)\n",
    "boolTofloat = float(isMarried)\n",
    "print(boolToStr, boolToint, boolTofloat, sep=\"_\")\n",
    "\n",
    "#Tipe data basis bilangan (decimal,biner,octal,hexa)\n",
    "\n",
    "desimal = 500\n",
    "biner = 0b1010 #10\n",
    "octal = 0o377 #255\n",
    "hexa = 0xff #255\n",
    "\n",
    "print(\"Nilai desimal : \", desimal)\n",
    "print(\"Nilai biner : \", biner)\n",
    "print(\"Nilai octal : \", octal)\n",
    "print(\"Nilai hexa : \", hexa)\n",
    "\n",
    "print(\"Nilai Biner dari \", desimal, \":\",bin(desimal))\n",
    "print(\"Nilai octal dari \", desimal, \":\",oct(desimal))\n",
    "print(\"Nilai Hexa dari \", desimal, \":\",hex(desimal))"
   ]
  },
  {
   "cell_type": "code",
   "execution_count": 29,
   "id": "51d3189d-dd53-444c-ba3b-43e021ccad0c",
   "metadata": {},
   "outputs": [
    {
     "name": "stdout",
     "output_type": "stream",
     "text": [
      "B\n",
      "7\n",
      "G\n"
     ]
    }
   ],
   "source": [
    "city = \"BANDUNG\"\n",
    "length = len(city)\n",
    "print(city[0])\n",
    "print(length)\n",
    "print(city[length-1])"
   ]
  },
  {
   "cell_type": "code",
   "execution_count": 59,
   "id": "602db5e3-3e6f-451b-b90d-89ba6dcc676e",
   "metadata": {},
   "outputs": [
    {
     "name": "stdout",
     "output_type": "stream",
     "text": [
      "['Bandung', 'Sukabumi', 'Bogor', 'Jakarta']\n",
      "Bandung\n",
      "Jakarta\n",
      "J\n",
      "a\n",
      "['Bali', 'Sukabumi', 'Bogor', 'Jakarta']\n",
      "('Sahla', 'Pirni', 'Riko')\n",
      "Pirni\n",
      "{'name': 'Pirni', 'age': 21, 'address': {'street': 'Cibadak', 'number': 20, 'province': 'Jawa Barat'}, 'isMarried': True, 'hobbies': ['Badmnton, Volly']}\n",
      "21\n",
      "Jawa Barat\n",
      "Badmnton, Volly\n",
      "[{'name': 'abay', 'age': 22, 'address': {'street': 'ParungKuda', 'number': 19, 'province': 'Jawa Barat'}, 'isMarried': True, 'hobbies': ['Badmnton, Volly']}, {'name': 'Sahla', 'age': 19, 'address': {'street': 'kalapa Nunggal', 'number': 20, 'province': 'Jawa Barat'}, 'isMarried': True, 'hobbies': ['Badmnton, Volly']}]\n",
      "Jawa Barat\n"
     ]
    }
   ],
   "source": [
    "#Tipe Data Collection\n",
    "cities = [\"Bandung\", \"Sukabumi\", \"Bogor\", \"Jakarta\"]\n",
    "lengthCities = len(cities)\n",
    "print(cities)\n",
    "print(cities [0])\n",
    "print(cities[lengthCities-1])\n",
    "print(cities[lengthCities-1][0])\n",
    "print(cities[lengthCities-1][len(cities[lengthCities-1])-1])\n",
    "cities [0] = \"Bali\"\n",
    "#Cities[5] = \"Malang\" akan menyebablan error out of range\n",
    "print(cities)\n",
    "\n",
    "names = (\"Sahla\", \"Pirni\", \"Riko\")\n",
    "print(names)\n",
    "print(names[1])\n",
    "#names[0] = \"Indah\" error immutable tuple\n",
    "\n",
    "studentData = {\n",
    "    \"name\" : \"Pirni\",\n",
    "    \"age\" : 21,\n",
    "    \"address\" : {\n",
    "        \"street\" : \"Cibadak\",\n",
    "        \"number\" : 20,\n",
    "        \"province\" : \"Jawa Barat\"\n",
    "    },\n",
    "    \"isMarried\" : True,\n",
    "    \"hobbies\" : [\"Badmnton, Volly\"]\n",
    "}\n",
    "\n",
    "print(studentData)\n",
    "print(studentData[\"age\"])\n",
    "print(studentData[\"address\"][\"province\"])\n",
    "print(studentData[\"hobbies\"][0])\n",
    "\n",
    "studentList = [\n",
    "    {\n",
    "    \"name\" : \"abay\",\n",
    "    \"age\" : 22,\n",
    "    \"address\" : {\n",
    "        \"street\" : \"ParungKuda\",\n",
    "        \"number\" : 19,\n",
    "        \"province\" : \"Jawa Barat\"\n",
    "    },\n",
    "    \"isMarried\" : True,\n",
    "    \"hobbies\" : [\"Badmnton, Volly\"]\n",
    "},\n",
    "    {\n",
    "    \"name\" : \"Sahla\",\n",
    "    \"age\" : 19,\n",
    "    \"address\" : {\n",
    "        \"street\" : \"kalapa Nunggal\",\n",
    "        \"number\" : 20,\n",
    "        \"province\" : \"Jawa Barat\"\n",
    "    },\n",
    "    \"isMarried\" : True,\n",
    "    \"hobbies\" : [\"Badmnton, Volly\"]\n",
    "}\n",
    "]\n",
    "print(studentList)\n",
    "print(studentList[1][\"address\"][\"province\"])"
   ]
  },
  {
   "cell_type": "code",
   "execution_count": 71,
   "id": "3e52b6fe-cb2e-4d7e-b943-74b730e7f79f",
   "metadata": {},
   "outputs": [
    {
     "name": "stdout",
     "output_type": "stream",
     "text": [
      "{'Name': 'Andi', 'age': 30, 'Status': True}\n",
      "{'Name': 'Rudi', 'Address': 'Bogor'}\n",
      "{'Name': 'Tiger', 'Type': 'Mamalia'}\n",
      "{'Name': 'Crocodile', 'Type': 'Reptile'}\n",
      "{'Vehicle': 'car', 'Brand': 'BMW', 'cc': 2500}\n"
     ]
    }
   ],
   "source": [
    "#Konversi dictionary\n",
    "\n",
    "List_List = [[\"Name\", \"Andi\"],[\"age\",30],[\"Status\",True]]\n",
    "dictListStudent = dict(List_List)\n",
    "print(dictListStudent)\n",
    "\n",
    "List_tuple = [(\"Name\", \"Rudi\"),(\"Address\",\"Bogor\")]\n",
    "dictTupleStudent = dict(List_tuple)\n",
    "print(dictTupleStudent)\n",
    "\n",
    "tuple_list = ([\"Name\",\"Tiger\"],[\"Type\",\"Mamalia\"])\n",
    "dictListAnimal = dict(tuple_list)\n",
    "print(dictListAnimal)\n",
    "\n",
    "tuple_tuple = ((\"Name\",\"Crocodile\"),(\"Type\",\"Reptile\"))\n",
    "dictTupleAnimal = dict(tuple_tuple)\n",
    "print(dictTupleAnimal)\n",
    "\n",
    "keys = [\"Vehicle\",\"Brand\",\"cc\"]\n",
    "values = [\"car\",\"BMW\",2500]\n",
    "car = dict(zip(keys,values))\n",
    "print(car)\n"
   ]
  }
 ],
 "metadata": {
  "kernelspec": {
   "display_name": "Python [conda env:base] *",
   "language": "python",
   "name": "conda-base-py"
  },
  "language_info": {
   "codemirror_mode": {
    "name": "ipython",
    "version": 3
   },
   "file_extension": ".py",
   "mimetype": "text/x-python",
   "name": "python",
   "nbconvert_exporter": "python",
   "pygments_lexer": "ipython3",
   "version": "3.12.7"
  }
 },
 "nbformat": 4,
 "nbformat_minor": 5
}
