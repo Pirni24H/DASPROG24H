{
 "cells": [
  {
   "cell_type": "code",
   "execution_count": 5,
   "id": "b028e56e-2f00-424f-9ba1-f552bb05866e",
   "metadata": {
    "scrolled": true
   },
   "outputs": [
    {
     "name": "stdin",
     "output_type": "stream",
     "text": [
      "isikan nilai X : 4\n",
      "isikan nilai Y : 3\n"
     ]
    },
    {
     "name": "stdout",
     "output_type": "stream",
     "text": [
      "Hasil Penjumlahan 4 + 3 = 7\n",
      "Hasil Pengurangan 4 - 3 = 1\n",
      "Hasil Kali 4 * 3 = 12\n",
      "Hasil Pembagian 4 / 3 = 1.3333333333333333\n",
      "Hasil Modulus 4 % 3 = 1\n",
      "Hasil Pangkat 4 ** 3 = 64\n",
      "Hasil BagiBulat 4 // 3 = 1\n"
     ]
    }
   ],
   "source": [
    "x =int (input (\"isikan nilai X :\"))\n",
    "y =int (input (\"isikan nilai Y :\"))\n",
    "\n",
    "hasilTambah = x+y\n",
    "hasilKurang = x-y\n",
    "hasilKali = x*y\n",
    "hasilBagi = x/y\n",
    "hasilMod = x%y\n",
    "hasilPangkat = x**y\n",
    "hasilBagiBulat = x//y\n",
    "\n",
    "\n",
    "print(\"Hasil Penjumlahan\",x,\"+\",y,\"=\",hasilTambah)\n",
    "print(\"Hasil Pengurangan\",x,\"-\",y,\"=\",hasilKurang)\n",
    "print(\"Hasil Kali\",x,\"*\",y,\"=\",hasilKali)\n",
    "print(\"Hasil Pembagian\",x,\"/\",y,\"=\",hasilBagi)\n",
    "print(\"Hasil Modulus\",x,\"%\",y,\"=\",hasilMod)\n",
    "print(\"Hasil Pangkat\",x,\"**\",y,\"=\",hasilPangkat)\n",
    "print(\"Hasil BagiBulat\",x,\"//\",y,\"=\",hasilBagiBulat)"
   ]
  },
  {
   "cell_type": "code",
   "execution_count": 15,
   "id": "d5df63da-14a2-4313-a7cf-a08f7dfb5f69",
   "metadata": {},
   "outputs": [
    {
     "name": "stdin",
     "output_type": "stream",
     "text": [
      "Isikan Nilai : 1\n"
     ]
    },
    {
     "name": "stdout",
     "output_type": "stream",
     "text": [
      "Nilai dari variabel <niali> adalah: 1\n",
      "<niali> setelah ditambahkan dengan 5 adalah: 6\n",
      "<niali> setelah dikurangkan dengan 10 adalah: -4\n",
      "<niali> setelah dikalikan dengan 4 adalah: -16\n",
      "<niali> setelah ditambahkan dengan 2 adalah: -8.0\n"
     ]
    }
   ],
   "source": [
    "nilai = int(input(\"Isikan Nilai :\"))\n",
    "print(\"Nilai dari variabel <niali> adalah:\", nilai) \n",
    "nilai +=5\n",
    "print(\"<niali> setelah ditambahkan dengan 5 adalah:\", nilai)  \n",
    "nilai-=10\n",
    "print(\"<niali> setelah dikurangkan dengan 10 adalah:\", nilai)\n",
    "nilai*=4\n",
    "print(\"<niali> setelah dikalikan dengan 4 adalah:\", nilai)  \n",
    "nilai/=2\n",
    "print(\"<niali> setelah ditambahkan dengan 2 adalah:\", nilai)  "
   ]
  },
  {
   "cell_type": "code",
   "execution_count": 23,
   "id": "4faa7c9a-e780-471f-a334-dc7aa133cdee",
   "metadata": {},
   "outputs": [
    {
     "name": "stdin",
     "output_type": "stream",
     "text": [
      "Isikan Nilai 1: 2\n",
      "Isikan Nilai 2: 6\n"
     ]
    },
    {
     "name": "stdout",
     "output_type": "stream",
     "text": [
      "Apakah 2 Sama Dengan 6 ?: False\n",
      "Apakah 2 Tidak Sama Dengan 6 ?: True\n",
      "Apakah 2 Lebih Besar 6 ?: False\n",
      "Apakah 2 Lebih Kecil 6 ?: True\n",
      "Apakah 2 Lebih Kecil Sama dengan 6 ?: True\n",
      "Apakah 2 Lebih Besar Sama Dengan 6 ?: False\n"
     ]
    }
   ],
   "source": [
    "val1 = int(input(\"Isikan Nilai 1:\"))\n",
    "val2 = int(input(\"Isikan Nilai 2:\"))\n",
    "\n",
    "print(\"Apakah\",val1,\"Sama Dengan\",val2,\"?:\", val1==val2) \n",
    "print(\"Apakah\",val1,\"Tidak Sama Dengan\",val2,\"?:\", val1!=val2)\n",
    "print(\"Apakah\",val1,\"Lebih Besar\",val2,\"?:\", val1>val2)\n",
    "print(\"Apakah\",val1,\"Lebih Kecil\",val2,\"?:\", val1<val2) \n",
    "print(\"Apakah\",val1,\"Lebih Kecil Sama dengan\",val2,\"?:\", val1<=val2) \n",
    "print(\"Apakah\",val1,\"Lebih Besar Sama Dengan\",val2,\"?:\", val1>=val2) "
   ]
  },
  {
   "cell_type": "markdown",
   "id": "45acfb45-e47d-4e40-9617-07f8e3e484b7",
   "metadata": {},
   "source": [
    "### <h1>OPERATOR LOGIKA</h1>"
   ]
  },
  {
   "cell_type": "code",
   "execution_count": 41,
   "id": "7ffaf254-9c1c-4a75-b07d-f93af08dddf4",
   "metadata": {},
   "outputs": [
    {
     "name": "stdin",
     "output_type": "stream",
     "text": [
      "Isikan Bilangan 1 : 1\n",
      "Isikan Bilangan 2 : 2\n"
     ]
    },
    {
     "name": "stdout",
     "output_type": "stream",
     "text": [
      "Apakah <num1> %2 = 0 and <num2> > 4 False\n",
      "Apakah <num1> %2 = 0 or <num2> > 4 False\n",
      "Apakah <num1> %2 = 0 or <num2> > 4 True\n"
     ]
    }
   ],
   "source": [
    "num1 = int(input(\"Isikan Bilangan 1 :\"))\n",
    "num2 = int(input(\"Isikan Bilangan 2 :\"))\n",
    "\n",
    "print(\"Apakah <num1> %2 = 0 and <num2> > 4\",num1 %2==0 and num2 > 4) \n",
    "print(\"Apakah <num1> %2 = 0 or <num2> > 4\", num1 %2==0 or num2 > 4) \n",
    "print(\"Apakah <num1> %2 = 0 or <num2> > 4\", not(num1 %2==0 and num2 > 4))\n"
   ]
  },
  {
   "cell_type": "markdown",
   "id": "6ab1c16b-2585-4177-909a-596b3e91bbab",
   "metadata": {},
   "source": [
    "<h1>OPERATOR IDENTITAS</h1>"
   ]
  },
  {
   "cell_type": "code",
   "execution_count": 49,
   "id": "b24bf604-ed87-4a20-aa09-442f91556ad1",
   "metadata": {},
   "outputs": [
    {
     "name": "stdout",
     "output_type": "stream",
     "text": [
      "Alamat Memori number1:  140715414203096\n",
      "Alamat Memori number2:  2294769576208\n",
      "Alamat Memori number3:  2294769576208\n",
      "False\n",
      "True\n",
      "True\n"
     ]
    }
   ],
   "source": [
    "number1 = 10\n",
    "number2 = \"10\"\n",
    "number3 = number2\n",
    "\n",
    "print(\"Alamat Memori number1: \",id(number1))\n",
    "print(\"Alamat Memori number2: \",id(number2))\n",
    "print(\"Alamat Memori number3: \",id(number3))\n",
    "\n",
    "print(number1 is number2)\n",
    "print(number2 is number3)\n",
    "print(number1 is not number2)"
   ]
  },
  {
   "cell_type": "markdown",
   "id": "f6490a37-9586-46cf-8aee-3f1b2bbca5c9",
   "metadata": {},
   "source": [
    "<h1>OPERATOR KEANGGOTAAN</h1>"
   ]
  },
  {
   "cell_type": "code",
   "execution_count": 54,
   "id": "dde4cf13-e0f9-43cf-8f15-5ae46aa69b7b",
   "metadata": {},
   "outputs": [
    {
     "name": "stdout",
     "output_type": "stream",
     "text": [
      "True\n",
      "False\n",
      "True\n"
     ]
    }
   ],
   "source": [
    "nama = \"PIRNI\"\n",
    "print(\"P\" in nama)1\n",
    "\n",
    "listAnakPakAhong = [\"Rizki\",\"Riko\",\"Sendy\"]\n",
    "print(nama in listAnakPakAhong)\n",
    "print(nama not in listAnakPakAhong)"
   ]
  },
  {
   "cell_type": "markdown",
   "id": "c6a24509-cf32-41a4-8de0-fd5dd3b27f0d",
   "metadata": {},
   "source": [
    "<h1>OPERATOR BITWISE</h1>"
   ]
  },
  {
   "cell_type": "code",
   "execution_count": 60,
   "id": "774bbc9a-aaf8-4e43-87e8-b85e810ec3d6",
   "metadata": {},
   "outputs": [
    {
     "name": "stdin",
     "output_type": "stream",
     "text": [
      "Isikan bilangan 1: 64\n",
      "Isikan bilangan 2: 2\n"
     ]
    },
    {
     "name": "stdout",
     "output_type": "stream",
     "text": [
      "0b1000000\n",
      "0b10\n",
      "----------&\n",
      "0b0 = 0\n",
      "\n",
      "0b1000000\n",
      "0b10\n",
      "----------|\n",
      "0b1000010 = 66\n",
      "\n",
      "0b1000000\n",
      "0b10\n",
      "----------^\n",
      "0b1000010 = 66\n",
      "\n",
      "0b1000000 Geser ke kiri sebanyak 2\n",
      "Hasilnya adalah: 0b100000000 = 256\n",
      "0b1000000 Geser ke Kanan sebanyak 2\n",
      "Hasilnya adalah: 0b10000 = 16\n"
     ]
    }
   ],
   "source": [
    "number1 = int(input(\"Isikan bilangan 1:\"))\n",
    "number2 = int(input(\"Isikan bilangan 2:\"))\n",
    "\n",
    "print(bin(number1))\n",
    "print(bin(number2))\n",
    "print(\"----------&\")\n",
    "print(bin(number1 & number2), \"=\", number1 & number2)\n",
    "print()\n",
    "print(bin(number1))\n",
    "print(bin(number2))\n",
    "print(\"----------|\")\n",
    "print(bin(number1 | number2), \"=\", number1 | number2)\n",
    "print()\n",
    "print(bin(number1))\n",
    "print(bin(number2))\n",
    "print(\"----------^\")\n",
    "print(bin(number1 ^ number2), \"=\", number1 ^ number2)\n",
    "print()\n",
    "\n",
    "print(bin(number1),\"Geser ke kiri sebanyak\", number2)\n",
    "print(\"Hasilnya adalah:\",bin(number1 << number2), \"=\", number1<<number2)\n",
    "\n",
    "print(bin(number1),\"Geser ke Kanan sebanyak\", number2)\n",
    "print(\"Hasilnya adalah:\",bin(number1 >> number2), \"=\", number1>>number2)"
   ]
  },
  {
   "cell_type": "markdown",
   "id": "4a603330-108f-45b7-9e28-01f8983fefbf",
   "metadata": {},
   "source": [
    "<h1>OPERATOR TERNARY</h1>"
   ]
  },
  {
   "cell_type": "code",
   "execution_count": 63,
   "id": "cf70e928-19bf-49f1-8690-87e50a29c94d",
   "metadata": {},
   "outputs": [
    {
     "name": "stdin",
     "output_type": "stream",
     "text": [
      "Isikan Bilangan : 3\n"
     ]
    },
    {
     "name": "stdout",
     "output_type": "stream",
     "text": [
      "3 Adalah Bilangan Ganjil\n"
     ]
    }
   ],
   "source": [
    "#Bilangan Ganjil atau Genap\n",
    "number = int(input(\"Isikan Bilangan :\"))\n",
    "oddEven = \"Genap\" if number % 2==0 else \"Ganjil\"\n",
    "print(number, \"Adalah Bilangan\", oddEven)\n"
   ]
  },
  {
   "cell_type": "code",
   "execution_count": 83,
   "id": "dddbd2a0-5a88-464d-8609-dde3bb199aa8",
   "metadata": {},
   "outputs": [
    {
     "name": "stdin",
     "output_type": "stream",
     "text": [
      "Isikan Jumlah Pisang : 2\n",
      "Isikan Jumlah Kolak : 1\n",
      "Isikan Jumlah Es Buah : 1\n"
     ]
    },
    {
     "name": "stdout",
     "output_type": "stream",
     "text": [
      "Jumlah Harga : 2 * 13000 = 26000\n",
      "Jumlah Harga : 1 * 7000 = 7000\n",
      "Jumlah Harga : 1 * 15000 = 15000\n",
      "================================================\n",
      "Total Belanja :  48000\n",
      "Total diskon :  5 % -> 2400.0\n",
      "Total bayar 45600.0\n"
     ]
    }
   ],
   "source": [
    "pisang = int(input(\"Isikan Jumlah Pisang :\"))\n",
    "Kolak = int(input(\"Isikan Jumlah Kolak :\"))\n",
    "Esbuah = int(input(\"Isikan Jumlah Es Buah :\"))\n",
    "\n",
    "pisang1 = 13000\n",
    "Kolak1 = 7000\n",
    "Esbuah1 = 15000\n",
    "\n",
    "hasilKali = pisang*pisang1\n",
    "hasilKolak = Kolak*Kolak1\n",
    "hasilEsbuah = Esbuah*Esbuah1\n",
    "\n",
    "print(\"Jumlah Harga :\",pisang,\"*\",pisang1,\"=\",hasilKali)\n",
    "print(\"Jumlah Harga :\",Kolak,\"*\",Kolak1,\"=\",hasilKolak)\n",
    "print(\"Jumlah Harga :\",Esbuah,\"*\",Esbuah1,\"=\",hasilEsbuah)\n",
    "print(\"================================================\")\n",
    "totalBelanja = hasilKali + hasilKolak + hasilEsbuah\n",
    "print(\"Total Belanja : \", totalBelanja)\n",
    "discount = 5 if totalBelanja > 25000 else 0\n",
    "print(\"Total diskon : \",discount,\"% ->\", totalBelanja * (discount/100))\n",
    "print(\"Total bayar\", totalBelanja - (totalBelanja * (discount/100)))"
   ]
  }
 ],
 "metadata": {
  "kernelspec": {
   "display_name": "Python [conda env:base] *",
   "language": "python",
   "name": "conda-base-py"
  },
  "language_info": {
   "codemirror_mode": {
    "name": "ipython",
    "version": 3
   },
   "file_extension": ".py",
   "mimetype": "text/x-python",
   "name": "python",
   "nbconvert_exporter": "python",
   "pygments_lexer": "ipython3",
   "version": "3.12.7"
  }
 },
 "nbformat": 4,
 "nbformat_minor": 5
}
