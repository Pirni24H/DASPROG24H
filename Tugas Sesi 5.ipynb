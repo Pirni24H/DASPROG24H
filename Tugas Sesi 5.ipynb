{
 "cells": [
  {
   "cell_type": "code",
   "execution_count": 3,
   "id": "5a8c2995-e858-4fe2-82d0-20448e56fcb2",
   "metadata": {},
   "outputs": [
    {
     "name": "stdin",
     "output_type": "stream",
     "text": [
      "Masukan Nama : Pirni\n",
      "Masukan TTL :  Sukabumi, 20 Juni 2005\n",
      "Masukan Alamat : Cibadak\n",
      "Masukan NIM : 20240040179\n",
      "Masukan Jurusan Teknik Informatika\n"
     ]
    },
    {
     "name": "stdout",
     "output_type": "stream",
     "text": [
      "======BIODATA======\n",
      "Nama:Pirni\n",
      "TTL:Sukabumi, 20 Juni 2005\n",
      "Alamat:Cibadak\n",
      "NIM:20240040179\n",
      "Jurusan:Teknik Informatika\n"
     ]
    }
   ],
   "source": [
    "Nama = input(\"Masukan Nama :\")\n",
    "TTL =  input(\"Masukan TTL : \")\n",
    "Alamat = input(\"Masukan Alamat :\")\n",
    "NIM = input(\"Masukan NIM :\")\n",
    "Jurusan = input(\"Masukan Jurusan\")\n",
    "\n",
    "print(\"======BIODATA======\")\n",
    "print(\"Nama:{}\".format(Nama))\n",
    "print(\"TTL:{}\".format(TTL))\n",
    "print(\"Alamat:{}\".format(Alamat))\n",
    "print(\"NIM:{}\".format(NIM))\n",
    "print(\"Jurusan:{}\".format(Jurusan))"
   ]
  },
  {
   "cell_type": "code",
   "execution_count": 93,
   "id": "a2450215-0c77-4bb5-8ff9-ba9878906e5f",
   "metadata": {},
   "outputs": [
    {
     "name": "stdin",
     "output_type": "stream",
     "text": [
      "Masukkan Kalimat: UNIVERSITAS NUSA PUTRA SUKABUMI\n"
     ]
    },
    {
     "name": "stdout",
     "output_type": "stream",
     "text": [
      "a. putra nusa\n",
      "b. NIVERSITAS NSA PTRA SKABMI\n",
      "c. SUKABUMI PUTRA NUSA UNIVERSITAS\n",
      "d. UNPS\n"
     ]
    }
   ],
   "source": [
    "#UNIVERSITAS NUSA PUTRA SUKABUMI\n",
    "teks = input(\"Masukkan Kalimat:\")\n",
    "kata = teks.split()\n",
    "\n",
    "# a. putra nusa\n",
    "Output_a = \"{} {}\".format(kata[2].lower(), kata[1].lower())\n",
    "print(\"a.\", Output_a)\n",
    "# b. NIVERSITAS NSA PTRA SKABMI\n",
    "Output_b = \"{} {}{} {}{} {}{}{}\".format(teks[1:11], teks[12],teks[14:16], teks[17],teks[19:22], teks[23],teks[25:28],teks[29:])\n",
    "print(\"b.\", Output_b)\n",
    "# c. SUKABUMI PUTRA NUSA UNIVERSITAS\n",
    "Output_c = \"{} {} {} {}\".format(kata[3], kata[2], kata[1], kata[0])\n",
    "print(\"c.\", Output_c)\n",
    "# d. UNPS\n",
    "Output_d = \"{}{}{}{}\".format(teks[0], teks[12], teks[17], teks[23])\n",
    "print(\"d.\", Output_d)\n",
    "# e. TAS SAPU BUMI\n",
    "Output_e = \"{} {}{} {}\".format(teks[8:11], teks[14:16], teks[17:19], teks[27:])"
   ]
  },
  {
   "cell_type": "code",
   "execution_count": null,
   "id": "e2525374-018c-402e-a787-ebe8bd81ca53",
   "metadata": {},
   "outputs": [],
   "source": []
  }
 ],
 "metadata": {
  "kernelspec": {
   "display_name": "Python [conda env:base] *",
   "language": "python",
   "name": "conda-base-py"
  },
  "language_info": {
   "codemirror_mode": {
    "name": "ipython",
    "version": 3
   },
   "file_extension": ".py",
   "mimetype": "text/x-python",
   "name": "python",
   "nbconvert_exporter": "python",
   "pygments_lexer": "ipython3",
   "version": "3.12.7"
  }
 },
 "nbformat": 4,
 "nbformat_minor": 5
}
