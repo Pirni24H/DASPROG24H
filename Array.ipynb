{
 "cells": [
  {
   "cell_type": "code",
   "execution_count": 157,
   "id": "5ed61f5f-bde3-4827-9d06-8ec53c1cd1b7",
   "metadata": {},
   "outputs": [],
   "source": [
    "import numpy as np"
   ]
  },
  {
   "cell_type": "code",
   "execution_count": 158,
   "id": "43045656-5f01-4e3e-ae93-119c1834abd2",
   "metadata": {},
   "outputs": [],
   "source": [
    "mat1D = np.array([1,2,3,4,5,6,7,8,9])\n",
    "mat2D = np.array([[1,2,3],[4,5,6],[7,8,9],[10,11,12]])\n",
    "mat2D10 = np.array([[10,20,30],[40,50,60],[70,80,90]])"
   ]
  },
  {
   "cell_type": "code",
   "execution_count": 159,
   "id": "dfb14903-6c27-4750-a9dc-c5d46fd19f85",
   "metadata": {},
   "outputs": [
    {
     "name": "stdout",
     "output_type": "stream",
     "text": [
      "Matriks 1D :\n",
      " [1 2 3 4 5 6 7 8 9]\n",
      "Matriks 1D indeks ke 7 : 8\n",
      "Matriks 1D * 10 : [10 20 30 40 50 60 70 80 90]\n"
     ]
    }
   ],
   "source": [
    "print(f\"Matriks 1D :\\n {mat1D}\")\n",
    "print(f\"Matriks 1D indeks ke 7 : {mat1D[7]}\")\n",
    "print(f\"Matriks 1D * 10 : {mat1D * 10}\")"
   ]
  },
  {
   "cell_type": "code",
   "execution_count": 160,
   "id": "f7954b93-79ab-463c-9f05-2f8d286f8b34",
   "metadata": {},
   "outputs": [
    {
     "name": "stdout",
     "output_type": "stream",
     "text": [
      "Matriks 2D :\n",
      " [[ 1  2  3]\n",
      " [ 4  5  6]\n",
      " [ 7  8  9]\n",
      " [10 11 12]]\n",
      "Matriks 2D * 10 :\n",
      " [[ 10  20  30]\n",
      " [ 40  50  60]\n",
      " [ 70  80  90]\n",
      " [100 110 120]]\n",
      "[10 20 30]\n",
      "30\n"
     ]
    }
   ],
   "source": [
    "print(f\"Matriks 2D :\\n {mat2D}\")\n",
    "print(f\"Matriks 2D * 10 :\\n {mat2D * 10}\")\n",
    "print(mat2D10 [0])\n",
    "print(mat2D10 [0] [2])"
   ]
  },
  {
   "cell_type": "code",
   "execution_count": 161,
   "id": "aace76f5-0e83-4474-8e33-03f34c89faf0",
   "metadata": {},
   "outputs": [
    {
     "name": "stdout",
     "output_type": "stream",
     "text": [
      "(9,)\n",
      "(4, 3)\n"
     ]
    }
   ],
   "source": [
    "print(mat1D.shape)\n",
    "print(mat2D.shape)"
   ]
  },
  {
   "cell_type": "code",
   "execution_count": 162,
   "id": "3c80471a-4b82-4658-a86e-08b294af84eb",
   "metadata": {},
   "outputs": [
    {
     "name": "stdout",
     "output_type": "stream",
     "text": [
      "Ukuran dari mat1D : 9\n",
      "Ukuran dari mat2D : 12\n"
     ]
    }
   ],
   "source": [
    "print(f\"Ukuran dari mat1D : {mat1D.size}\")\n",
    "print(f\"Ukuran dari mat2D : {mat2D.size}\")"
   ]
  },
  {
   "cell_type": "code",
   "execution_count": 163,
   "id": "71a0758e-4bdb-4a10-9de9-537026f9e11c",
   "metadata": {},
   "outputs": [
    {
     "name": "stdout",
     "output_type": "stream",
     "text": [
      "Matriks mZero :\n",
      "[[0. 0. 0.]\n",
      " [0. 0. 0.]\n",
      " [0. 0. 0.]]\n",
      "Matriks mOne :\n",
      "[[1. 1. 1.]\n",
      " [1. 1. 1.]\n",
      " [1. 1. 1.]]\n",
      "Matriks mFull :\n",
      "[[7 7 7 7]\n",
      " [7 7 7 7]\n",
      " [7 7 7 7]\n",
      " [7 7 7 7]]\n",
      "Matriks Identitas:\n",
      "[[1. 0. 0. 0.]\n",
      " [0. 1. 0. 0.]\n",
      " [0. 0. 1. 0.]\n",
      " [0. 0. 0. 1.]]\n",
      "Matriks mFRandom1D :\n",
      "[0.5291997  0.19940898 0.48446738 0.54582975 0.89339243]\n",
      "Matriks mFRandom2D :\n",
      "[[0.73162502 0.26621473 0.46421322]\n",
      " [0.96529241 0.82234776 0.5706209 ]\n",
      " [0.05646046 0.79100731 0.7509304 ]]\n",
      "Matriks mIRandom1D :\n",
      "[23 79 24 15 64]\n",
      "Matriks mIRandom2D :\n",
      "[[13 42 86 51]\n",
      " [64 71 16 13]\n",
      " [63 67 78 22]\n",
      " [16 43 26 56]]\n"
     ]
    }
   ],
   "source": [
    "#Special Matriks\n",
    "mZero = np.zeros((3,3))\n",
    "mOne = np.ones((3,3))\n",
    "mFull = np.full((4,4),7) #Membuat array ukuran 4*4 diisi dengan nilai 7\n",
    "mIdentity = np.eye((4))\n",
    "mFRandom1D = np.random.rand(5) \n",
    "mFRandom2D = np.random.rand(3,3) \n",
    "mIRandom1D = np.random.randint(10,100,size=5)\n",
    "mIRandom2D = np.random.randint(10,100,size=(4,4))\n",
    "print(f\"Matriks mZero :\\n{mZero}\")\n",
    "print(f\"Matriks mOne :\\n{mOne}\")\n",
    "print(f\"Matriks mFull :\\n{mFull}\")\n",
    "print(f\"Matriks Identitas:\\n{mIdentity}\")\n",
    "print(f\"Matriks mFRandom1D :\\n{mFRandom1D}\")\n",
    "print(f\"Matriks mFRandom2D :\\n{mFRandom2D}\")\n",
    "print(f\"Matriks mIRandom1D :\\n{mIRandom1D}\")\n",
    "print(f\"Matriks mIRandom2D :\\n{mIRandom2D}\")"
   ]
  },
  {
   "cell_type": "code",
   "execution_count": 164,
   "id": "721c30d8-9d1a-40e9-9444-41654f49ae69",
   "metadata": {},
   "outputs": [
    {
     "name": "stdout",
     "output_type": "stream",
     "text": [
      "Matriks Data :\n",
      "[[1 2 3]\n",
      " [4 5 6]\n",
      " [7 8 9]]\n",
      "Matriks Reshape :\n",
      "[[1]\n",
      " [2]\n",
      " [3]\n",
      " [4]\n",
      " [5]\n",
      " [6]\n",
      " [7]\n",
      " [8]\n",
      " [9]]\n",
      "Matriks mFlat :\n",
      "[1 2 3 4 5 6 7 8 9]\n"
     ]
    }
   ],
   "source": [
    "#Mengubah Bentuk Array\n",
    "data = np.array([[1,2,3],[4,5,6],[7,8,9]])\n",
    "mshape = data.reshape((9,1))\n",
    "mFlat = data.flatten()\n",
    "print(f\"Matriks Data :\\n{data}\")\n",
    "print(f\"Matriks Reshape :\\n{mshape}\")\n",
    "print(f\"Matriks mFlat :\\n{mFlat}\")"
   ]
  },
  {
   "cell_type": "code",
   "execution_count": 171,
   "id": "e68a58d7-2296-4311-966a-daf0562d81d6",
   "metadata": {},
   "outputs": [
    {
     "name": "stdout",
     "output_type": "stream",
     "text": [
      "hasil dari dot product:69\n",
      "Hasil Penjummlahan Matriks: [ 3  7 10 13]\n",
      "Nilai Minimum : 2\n",
      "Nilai maksimum : 9\n",
      "Nilai Rata Rata : 5.75\n",
      "Nilai Total:23\n",
      "Nilai Deviasi: 2.5860201081971503\n"
     ]
    }
   ],
   "source": [
    "#Deskriptif Statistik\n",
    "x = np.array([1,2,3,4])\n",
    "y = np.array([2,5,7,9])\n",
    "\n",
    "#Menghitung dot product\n",
    "r1 = np.dot(x,y)\n",
    "r2 = np.add(x,y)\n",
    "print(f\"hasil dari dot product:{r1}\")\n",
    "print(f\"Hasil Penjummlahan Matriks: {r2}\")\n",
    "print(f\"Nilai Minimum : {y.min()}\")\n",
    "print(f\"Nilai maksimum : {y.max()}\")\n",
    "print(f\"Nilai Rata Rata : {y.mean()}\")\n",
    "print(f\"Nilai Total:{y.sum()}\")\n",
    "print(f\"Nilai Deviasi: {y.std()}\")"
   ]
  },
  {
   "cell_type": "code",
   "execution_count": 181,
   "id": "974f15e8-fc89-4585-a990-197e9a4dd223",
   "metadata": {},
   "outputs": [
    {
     "name": "stdout",
     "output_type": "stream",
     "text": [
      "[100  90 100  80]\n",
      "Mahasiswa yang lulus Sebanyak: 4\n",
      "Mahasiswa yang tidak Lulus : 4\n"
     ]
    }
   ],
   "source": [
    "#Filtering\n",
    "\n",
    "nilaiPemrograman = np.array([100,90,100,80,50,50,50,40])\n",
    "#Tampilkan nilai Pemrograman yang lebih dari 50 -> lulus\n",
    "#Berapakah Mahasiswa yang lulus\n",
    "jmlLulus = nilaiPemrograman [nilaiPemrograman >50]\n",
    "print(jmlLulus)\n",
    "print(f\"Mahasiswa yang lulus Sebanyak: {jmlLulus.size}\")\n",
    "print(f\"Mahasiswa yang tidak Lulus : {nilaiPemrograman.size -jmlLulus.size}\")"
   ]
  },
  {
   "cell_type": "markdown",
   "id": "3619365d-e302-420b-a6ca-cb08e92fbc53",
   "metadata": {},
   "source": [
    "<b>PROJECT GENERATE DATA</b><br>\n",
    "\n",
    "Buatlah 100 data Customer CC, yang akan digunakan untuk prediksi atau klasisfikasi yaitu:\n",
    "<ol> \n",
    "    <li>Usia : 17 - 60 </li>\n",
    "    <li>Gender : L/P </li>\n",
    "    <li>Transksi Perbulan : 0 - 50</li>\n",
    "    <li>Pembayaran : Buruk,Sedang,Bagus</li>\n",
    "<ol>"
   ]
  },
  {
   "cell_type": "raw",
   "id": "4039c02b-9f02-4437-8e86-28a1a2aacea3",
   "metadata": {},
   "source": [
    "import numpy as np\n",
    "import pandas as pd\n",
    "jmlhData = 1000\n",
    "usia = np.random.randint(17,61,size=jmlhData)\n",
    "Gender = np.random.choice(['L','P'],size=jmlhData)\n",
    "transaksi = np.random.randint(0,51,size=jmlhData)\n",
    "pembayaran = np.random.choice(['Buruk','sedang','Bagus'],size=jmlhData)\n",
    "\n",
    "df = pd.DataFrame ({\n",
    "    'usia' : usia,\n",
    "    'Gender' : Gender,\n",
    "    'transaksi' : transaksi,\n",
    "    'pembayaran' : pembayaran\n",
    "})\n",
    "print(df)\n",
    "print(df.info()) #Menampilkn karakteristik data\n",
    "print(df.head())#Menampilkan isi tabel 5 baris pertama\n",
    "df.to_csv(\"Data CC Customer.csv\")\n",
    "\n"
   ]
  },
  {
   "cell_type": "code",
   "execution_count": 211,
   "id": "245ad573-cb62-4be7-96b3-7fc54985be50",
   "metadata": {},
   "outputs": [
    {
     "name": "stdout",
     "output_type": "stream",
     "text": [
      "    usia Gender  transaksi pembayaran\n",
      "0     36      P         49     sedang\n",
      "1     47      P          7     sedang\n",
      "2     42      P         19      Buruk\n",
      "3     26      L          3      Bagus\n",
      "4     27      L         49      Buruk\n",
      "..   ...    ...        ...        ...\n",
      "95    20      L         16      Buruk\n",
      "96    51      P         40      Buruk\n",
      "97    46      P          0      Buruk\n",
      "98    52      P          5      Bagus\n",
      "99    50      P         32     sedang\n",
      "\n",
      "[100 rows x 4 columns]\n",
      "<class 'pandas.core.frame.DataFrame'>\n",
      "RangeIndex: 100 entries, 0 to 99\n",
      "Data columns (total 4 columns):\n",
      " #   Column      Non-Null Count  Dtype \n",
      "---  ------      --------------  ----- \n",
      " 0   usia        100 non-null    int32 \n",
      " 1   Gender      100 non-null    object\n",
      " 2   transaksi   100 non-null    int32 \n",
      " 3   pembayaran  100 non-null    object\n",
      "dtypes: int32(2), object(2)\n",
      "memory usage: 2.5+ KB\n",
      "None\n",
      "   usia Gender  transaksi pembayaran\n",
      "0    36      P         49     sedang\n",
      "1    47      P          7     sedang\n",
      "2    42      P         19      Buruk\n",
      "3    26      L          3      Bagus\n",
      "4    27      L         49      Buruk\n",
      "Usia Paling Muda : 17\n",
      "Usia Paling Tua : 60\n",
      "Jumlah CS laki - Laki : 48.0\n",
      "Jumlah CS Perempuan : 48\n"
     ]
    }
   ],
   "source": [
    "import numpy as np\n",
    "import pandas as pd\n",
    "jmlhData = 100\n",
    "usia = np.random.randint(17,61,size=jmlhData)\n",
    "Gender = np.random.choice(['L','P'],size=jmlhData)\n",
    "transaksi = np.random.randint(0,51,size=jmlhData)\n",
    "pembayaran = np.random.choice(['Buruk','sedang','Bagus'],size=jmlhData)\n",
    "\n",
    "df = pd.DataFrame ({\n",
    "    'usia' : usia,\n",
    "    'Gender' : Gender,\n",
    "    'transaksi' : transaksi,\n",
    "    'pembayaran' : pembayaran\n",
    "})\n",
    "print(df)\n",
    "print(df.info()) #Menampilkn karakteristik data\n",
    "print(df.head())#Menampilkan isi tabel 5 baris pertama\n",
    "\n",
    "#Tampilkan Usia Paling Muda\n",
    "print(f\"Usia Paling Muda : {df['usia'].min()}\")\n",
    "print(f\"Usia Paling Tua : {df['usia'].max()}\")\n",
    "\n",
    "#Menampilkan JUmlah CS Laki LAki \n",
    "jmlL = df[df['Gender']=='L']\n",
    "print(f\"Jumlah CS laki - Laki : {jmlL.size/4}\")\n",
    "print(f\"Jumlah CS Perempuan : {jmlL['Gender'].size}\")\n",
    "df.to_csv(\"Data CC Customer.csv\")\n",
    "\n"
   ]
  }
 ],
 "metadata": {
  "kernelspec": {
   "display_name": "Python [conda env:base] *",
   "language": "python",
   "name": "conda-base-py"
  },
  "language_info": {
   "codemirror_mode": {
    "name": "ipython",
    "version": 3
   },
   "file_extension": ".py",
   "mimetype": "text/x-python",
   "name": "python",
   "nbconvert_exporter": "python",
   "pygments_lexer": "ipython3",
   "version": "3.12.7"
  }
 },
 "nbformat": 4,
 "nbformat_minor": 5
}
