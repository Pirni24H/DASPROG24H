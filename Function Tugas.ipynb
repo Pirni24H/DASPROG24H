{
 "cells": [
  {
   "cell_type": "code",
   "execution_count": 18,
   "id": "7a56e1e4-95e6-470c-aade-88dd74691fdb",
   "metadata": {},
   "outputs": [
    {
     "name": "stdout",
     "output_type": "stream",
     "text": [
      "Reverse per kata dari 'AKU CINTA KAMU':\n",
      "UKA ATNIC UMAK\n",
      "\n",
      "Urutkan kalimat dari 'HARI INI SEDANG BELAJAR PYTHON' dengan urutan [5, 1, 4, 3, 2]:\n",
      "PYTHON HARI BELAJAR SEDANG INI\n",
      "\n",
      "Ganti vokal pada kalimat 'Aku Cinta Kamu' dengan opsi 1:\n",
      "Ak|_| C1nt4 K4m|_|\n",
      "\n",
      "Ganti vokal pada kalimat 'Aku Cinta Kamu' dengan opsi 2:\n",
      "4ku Cinta Kamu\n",
      "\n"
     ]
    }
   ],
   "source": [
    "def reverse_kata(kalimat):\n",
    "    list_kata = kalimat.split()\n",
    "    kata_yang_dibalik = [kata[::-1] for kata in list_kata]\n",
    "    return ' '.join(kata_yang_dibalik)\n",
    "\n",
    "\n",
    "def mengurutkan_kalimat(kalimat, urutan):\n",
    "    list_kata = kalimat.split()\n",
    "    kalimat_berurut = [list_kata[i - 1] for i in urutan]\n",
    "    return ' '.join(kalimat_berurut)\n",
    "\n",
    "\n",
    "def mengganti_vokal(kalimat, opsi):\n",
    "    hasil = ''\n",
    "    ganti_kecil = {'a': '4', 'i': '1', 'u': '|_|', 'e': '3', 'o': '0'}\n",
    "    ganti_besar = {'A': '4', 'I': '1', 'U': '|_|', 'E': '3', 'O': '0'}\n",
    "    \n",
    "    for huruf in kalimat:\n",
    "        if opsi == 1 and huruf in ganti_kecil:\n",
    "            hasil += ganti_kecil[huruf]\n",
    "        elif opsi == 2 and huruf in ganti_besar:\n",
    "            hasil += ganti_besar[huruf]\n",
    "        else:\n",
    "            hasil += huruf\n",
    "    return hasil\n",
    "\n",
    "\n",
    "if __name__ == '__main__':\n",
    "\n",
    "    kalimat1 = \"AKU CINTA KAMU\"\n",
    "    hasil_reverse = reverse_kata(kalimat1)\n",
    "    print(f\"Reverse per kata dari '{kalimat1}':\\n{hasil_reverse}\\n\")\n",
    "\n",
    "    kalimat2 = \"HARI INI SEDANG BELAJAR PYTHON\"\n",
    "    urutan2 = [5, 1, 4, 3, 2]\n",
    "    hasil_urut = mengurutkan_kalimat(kalimat2, urutan2)\n",
    "    print(f\"Urutkan kalimat dari '{kalimat2}' dengan urutan {urutan2}:\\n{hasil_urut}\\n\")\n",
    "\n",
    "    kalimat3 = \"Aku Cinta Kamu\"\n",
    "    pilihan1 = 1\n",
    "    pilihan2 = 2\n",
    "    hasil_ganti1 = mengganti_vokal(kalimat3, pilihan1)\n",
    "    hasil_ganti2 = mengganti_vokal(kalimat3, pilihan2)\n",
    "    print(f\"Ganti vokal pada kalimat '{kalimat3}' dengan opsi {pilihan1}:\\n{hasil_ganti1}\\n\")\n",
    "    print(f\"Ganti vokal pada kalimat '{kalimat3}' dengan opsi {pilihan2}:\\n{hasil_ganti2}\\n\")\n"
   ]
  },
  {
   "cell_type": "code",
   "execution_count": null,
   "id": "f97f19a8-b757-4970-af4c-13833bd0bbdc",
   "metadata": {},
   "outputs": [],
   "source": [
    "#soal pertama\n",
    "# Fungsi: reverse_kata(kalimat)\n",
    "# Tujuan:\n",
    "#   Membalik setiap kata dalam kalimat, tetapi tetap mempertahankan urutan kata.\n",
    "# Cara kerja:\n",
    "#   - Pisahkan kalimat menjadi kata-kata.\n",
    "#   - Balik tiap kata secara individual menggunakan slicing [::-1].\n",
    "#   - Gabungkan kembali menjadi kalimat baru.\n",
    "# Contoh:\n",
    "#   Input: \"AKU CINTA KAMU\"\n",
    "#   Output: \"UKA ATNIC UMAK\""
   ]
  },
  {
   "cell_type": "code",
   "execution_count": null,
   "id": "805940ca-f33c-4c6b-891e-393a986f5684",
   "metadata": {},
   "outputs": [],
   "source": [
    "#soal kedua\n",
    "# Fungsi: mengurutkan_kalimat(kalimat, urutan)\n",
    "# Tujuan:\n",
    "#   Menyusun ulang kata-kata dalam kalimat sesuai urutan indeks yang diberikan.\n",
    "# Cara kerja:\n",
    "#   - Pisahkan kalimat menjadi kata.\n",
    "#   - Ambil kata berdasarkan indeks urutan yang dimulai dari angka 1 (bukan 0).\n",
    "#   - Gabungkan kembali hasilnya jadi kalimat baru.\n",
    "# Contoh:\n",
    "#   kalimat = \"HARI INI SEDANG BELAJAR PYTHON\"\n",
    "#   urutan = [5, 1, 4, 3, 2]\n",
    "#   Output: \"PYTHON HARI BELAJAR SEDANG INI\""
   ]
  },
  {
   "cell_type": "code",
   "execution_count": null,
   "id": "a1eeec7d-9f08-4b20-892c-afe2a52f000d",
   "metadata": {},
   "outputs": [],
   "source": [
    "#Soal ketiga\n",
    "# Fungsi: mengganti_vokal(kalimat, opsi)\n",
    "# Tujuan:\n",
    "#   Mengganti huruf vokal dengan simbol tertentu tergantung pilihan opsi.\n",
    "# Cara kerja:\n",
    "#   - Jika opsi = 1, ubah hanya huruf vokal kecil: a, i, u, e, o\n",
    "#   - Jika opsi = 2, ubah hanya huruf vokal kapital: A, I, U, E, O\n",
    "#   - Huruf vokal diganti menjadi:\n",
    "#       a → 4, i → 1, u → |_|, e → 3, o → 0\n",
    "#       A → 4, I → 1, U → |_|, E → 3, O → 0\n",
    "# Contoh:\n",
    "#   Input: \"Aku Cinta Kamu\", opsi=1 → \"Ak|_| C1nt4 K4m|_|\""
   ]
  }
 ],
 "metadata": {
  "kernelspec": {
   "display_name": "Python [conda env:base] *",
   "language": "python",
   "name": "conda-base-py"
  },
  "language_info": {
   "codemirror_mode": {
    "name": "ipython",
    "version": 3
   },
   "file_extension": ".py",
   "mimetype": "text/x-python",
   "name": "python",
   "nbconvert_exporter": "python",
   "pygments_lexer": "ipython3",
   "version": "3.12.7"
  }
 },
 "nbformat": 4,
 "nbformat_minor": 5
}
