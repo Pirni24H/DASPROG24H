{
 "cells": [
  {
   "cell_type": "code",
   "execution_count": 71,
   "id": "37ba2a4c-5e33-4f42-b8b4-98ec95395612",
   "metadata": {},
   "outputs": [
    {
     "name": "stdout",
     "output_type": "stream",
     "text": [
      "NIlai Acak Pecahan :0.7015417324768325\n",
      "Nlai acak antar 0-100 : 94\n",
      "Sekarang Bulan: okt\n",
      "Berapakah Hasil : 7+33?\n"
     ]
    },
    {
     "name": "stdin",
     "output_type": "stream",
     "text": [
      "Isikan Jawaban Anda : 40\n"
     ]
    },
    {
     "name": "stdout",
     "output_type": "stream",
     "text": [
      "Anda Salah!!\n"
     ]
    }
   ],
   "source": [
    "#Fungsi string random bilangan\n",
    "from random import random #float\n",
    "nilai = random()\n",
    "#Fstring\n",
    "print(f\"NIlai Acak Pecahan :{nilai}\")\n",
    "\n",
    "from random import randint \n",
    "intNilai = randint(0,100)\n",
    "print(f\"Nlai acak antar 0-100 : {intNilai}\")\n",
    "\n",
    "from random import choice\n",
    "month = [\"jan\",\"Feb\",\"Mar\",\"Apr\",\"Mei\",\"Juni\",\"Juli\",\"agus\",\"sep\",\"okt\",\"nov\",\"des\"]\n",
    "day = [[\"Mon\",\"1\"],[\"Tue\",\"2\"],[\"Wed\", \"3\"],[\"Thu\",\"4\"],[\"Fri\",\"5\"],[\"Sat\",\"6\"]]\n",
    "cMonth = choice(month)\n",
    "print(f\"Sekarang Bulan: {cMonth}\")\n",
    "\n",
    "nilai1 = randint(0,100)\n",
    "nilai2 = randint(0,100)\n",
    "print(f\"Berapakah Hasil : {nilai1}+{nilai2}?\")\n",
    "answer = input(\"Isikan Jawaban Anda :\")\n",
    "check = \"Anda Benar!!\" if nilai1 + nilai2 == answer else \"Anda Salah!!\"\n",
    "print(check)"
   ]
  },
  {
   "cell_type": "code",
   "execution_count": 79,
   "id": "3be40ea2-a944-478a-8e26-9f7caff2e117",
   "metadata": {},
   "outputs": [
    {
     "name": "stdout",
     "output_type": "stream",
     "text": [
      "Apa Arti Dari Eat?\n"
     ]
    },
    {
     "name": "stdin",
     "output_type": "stream",
     "text": [
      "Isikan Jawaban Anda Makan\n"
     ]
    },
    {
     "name": "stdout",
     "output_type": "stream",
     "text": [
      "Anda Benar!!\n"
     ]
    }
   ],
   "source": [
    "from random import choice\n",
    "kamus = [[\"Eat\", \"makan\"], [\"Drink\", \"Minum\"],[\"Reading\",\"Membaca\"]]\n",
    "ckamus = choice(kamus)\n",
    "\n",
    "print(f\"Apa Arti Dari {ckamus[0]}?\")\n",
    "jawab = input (\"Isikan Jawaban Anda\")\n",
    "check = \"Anda Benar!!\" if jawab.lower() == ckamus[1].lower() else \"Anda Salah!!\"\n",
    "print(check)"
   ]
  },
  {
   "cell_type": "code",
   "execution_count": 59,
   "id": "d0a53fa9-149f-4106-a50f-0a0a902a2775",
   "metadata": {},
   "outputs": [
    {
     "name": "stdin",
     "output_type": "stream",
     "text": [
      "Masukan Angka 1234\n"
     ]
    },
    {
     "name": "stdout",
     "output_type": "stream",
     "text": [
      "Hasil Dari 1234 - 10 = 1224\n"
     ]
    }
   ],
   "source": [
    "number = input(\"Masukan Angka\")\n",
    "sum = int(number [0]) + int(number [1]) + int(number [2]) + int(number [3])\n",
    "result = int(number) - sum\n",
    "\n",
    "print(\"Hasil Dari {} - {} = {}\".format(number, sum, result))"
   ]
  },
  {
   "cell_type": "code",
   "execution_count": 53,
   "id": "2148f9ce-283a-447c-bd76-d83b61f99eb5",
   "metadata": {},
   "outputs": [
    {
     "name": "stdin",
     "output_type": "stream",
     "text": [
      "Isikan email anda : pirni.com\n"
     ]
    },
    {
     "name": "stdout",
     "output_type": "stream",
     "text": [
      "Tidak VAlid\n"
     ]
    }
   ],
   "source": [
    "#Buatlah Program untuk memvalidasi apakah email valid atau tidak\n",
    "#valid -> mempuntai tanda @ sama . => adi@gmail.com\n",
    "#adi.nu@gmail.com => Tidak Valid\n",
    "#Posisi @ disebelah kiri dari Posisi\n",
    "\n",
    "email = input(\"Isikan email anda :\")\n",
    "findAt = email.find(\"@\")\n",
    "findPeriod = email.find(\".\")\n",
    "\n",
    "validasi = \"Email Valid\" if findAt != -1 and findPeriod != -1 and findAt < findPeriod else \"Tidak VAlid\" \n",
    "print(validasi)\n"
   ]
  },
  {
   "cell_type": "markdown",
   "id": "a4272d50-82f9-42c2-8e21-90931cd6e963",
   "metadata": {},
   "source": [
    "<h1>FUNGSI STRING</h1>"
   ]
  },
  {
   "cell_type": "code",
   "execution_count": 41,
   "id": "dc0b9937-5bd1-4abf-8654-56b586ba59c0",
   "metadata": {},
   "outputs": [
    {
     "name": "stdout",
     "output_type": "stream",
     "text": [
      "Nama Awal : Budi\n",
      "Nama Awal : Raharja\n",
      "Gelar :  S.Kom\n",
      "6\n"
     ]
    }
   ],
   "source": [
    "NamaLengkap = \"Budi Raharja S.Kom\"\n",
    "nama = NamaLengkap.split(' ')\n",
    "print(\"Nama Awal :\", nama[0])\n",
    "print(\"Nama Awal :\", nama[1])\n",
    "print(\"Gelar : \", nama[2])\n",
    "\n",
    "#Fungsi Find untuk mengembalikan indeks dari posisi karakter yang dicari jika ketemu\n",
    "#Jika tidak akan menghasilkan -1\n",
    "nomorPlat = \"F1234GR\"\n",
    "cari = nomorPlat.find(\"R\")\n",
    "print(cari)\n"
   ]
  },
  {
   "cell_type": "markdown",
   "id": "0b214f2f-9f1a-496f-94fe-0d57f65b88f2",
   "metadata": {},
   "source": [
    "<h1>SLICING</h1> <br>\n",
    "Mengambil Karakter Pada String berdasarkan Indeks"
   ]
  },
  {
   "cell_type": "code",
   "execution_count": 28,
   "id": "5c9f7c4d-8f39-4187-b060-dfeefcc6884f",
   "metadata": {},
   "outputs": [
    {
     "name": "stdin",
     "output_type": "stream",
     "text": [
      "Isikan Kalimat Indah\n"
     ]
    },
    {
     "name": "stdout",
     "output_type": "stream",
     "text": [
      "Karakter ke 2 Adalah : Indah\n",
      "Karakter ke 3 dst : n\n",
      "Karakter ke 2-4 : nda\n",
      "Karakter Terakhir adlah : h\n",
      "Kalimat Dibalik Menjadi: hadnI\n"
     ]
    }
   ],
   "source": [
    "Kalimat = input(\"Isikan Kalimat\")\n",
    "#Mencetak Karakter ke 2\n",
    "print(\"Karakter ke 2 Adalah :\", Kalimat)\n",
    "#Mencetak Karakter ke 3 sampai Seterusny\n",
    "print(\"Karakter ke 3 dst :\", Kalimat [1])\n",
    "#Mencetak karakter ke 2 dan ke 4\n",
    "print(\"Karakter ke 2-4 :\", Kalimat [1:4])\n",
    "#Mencetak Kalimat Paling KAhir\n",
    "print(\"Karakter Terakhir adlah :\", Kalimat [-1])\n",
    "#Reserve String\n",
    "print(\"Kalimat Dibalik Menjadi:\", Kalimat [::-1])"
   ]
  },
  {
   "cell_type": "code",
   "execution_count": 5,
   "id": "b3b3493e-db8c-4481-82fa-25f24cb6f27e",
   "metadata": {},
   "outputs": [
    {
     "name": "stdin",
     "output_type": "stream",
     "text": [
      "Isikan Nama : Pirni\n"
     ]
    },
    {
     "name": "stdout",
     "output_type": "stream",
     "text": [
      "Selamat Datang Pirni\n",
      "Ini Adalah urutan angka :\n",
      "123\n",
      "A_B_C\n"
     ]
    }
   ],
   "source": [
    "name = input(\"Isikan Nama :\")\n",
    "\n",
    "print(\"Selamat Datang\", name)\n",
    "print(\"Ini Adalah urutan angka :\")\n",
    "print(\"1\", end='')\n",
    "print(\"2\", end ='')\n",
    "print(\"3\")\n",
    "print(\"A\",\"B\",\"C\", sep='_')"
   ]
  },
  {
   "cell_type": "markdown",
   "id": "3ebf2ae4-5856-40c5-936a-85335c0bc1e8",
   "metadata": {},
   "source": [
    "<h1>STRING FORMAT</h1>"
   ]
  },
  {
   "cell_type": "code",
   "execution_count": 10,
   "id": "58f5d9a9-4376-44c0-91c3-7d3f137c1c73",
   "metadata": {},
   "outputs": [
    {
     "name": "stdin",
     "output_type": "stream",
     "text": [
      "Isikan Bilangan 1 : 1\n",
      "Isikan Bilangan 2 : 2\n"
     ]
    },
    {
     "name": "stdout",
     "output_type": "stream",
     "text": [
      "Hasil Penjumlahan 1 + 2 = 3\n",
      "Hasil Penjumlahan 1 + 2 = 3\n"
     ]
    }
   ],
   "source": [
    "val1 = int(input(\"Isikan Bilangan 1 :\"))\n",
    "val2 = int(input(\"Isikan Bilangan 2 :\"))\n",
    "\n",
    "print(\"Hasil Penjumlahan\", val1, \"+\", val2,\"=\", val1+val2)\n",
    "print(\"Hasil Penjumlahan {} + {} = {}\".format(val1,val2,val1+val2))"
   ]
  },
  {
   "cell_type": "markdown",
   "id": "9b4a1b61-92a0-4a03-9e2b-981717e279f3",
   "metadata": {},
   "source": [
    "<h1>FORMAT INDEXS</h1>"
   ]
  },
  {
   "cell_type": "code",
   "execution_count": 22,
   "id": "d11ffd9e-c30d-4be1-b2bc-52fe3174b682",
   "metadata": {},
   "outputs": [
    {
     "name": "stdin",
     "output_type": "stream",
     "text": [
      "Isikan Nama Awal : saya\n",
      "Isikan Nama Tengah : adalah\n",
      "Isikan Nama Akhir : nama\n"
     ]
    },
    {
     "name": "stdout",
     "output_type": "stream",
     "text": [
      "Nama Lengkap : saya adalah nama\n",
      "Nama Lengkap : adalah saya nama\n",
      "Nama Lengkap : saya adalah nama\n"
     ]
    }
   ],
   "source": [
    "fName = input(\"Isikan Nama Awal :\")\n",
    "mName = input(\"Isikan Nama Tengah :\")\n",
    "lName = input(\"Isikan Nama Akhir :\")\n",
    "print(\"Nama Lengkap : {} {} {}\".format(fName,mName,lName))\n",
    "print(\"Nama Lengkap : {1} {0} {2}\".format (fName,mName,lName))\n",
    "\n",
    "#Menggunakan key variable\n",
    "print(\"Nama Lengkap : {f} {m} {l}\".format(f=fName, l=lName, m=mName))"
   ]
  },
  {
   "cell_type": "code",
   "execution_count": null,
   "id": "21b50b7b-3b29-4fc0-ac67-f15c722a7eab",
   "metadata": {},
   "outputs": [],
   "source": [
    "Universitas = input(\"Isi Universitas : \")\n"
   ]
  },
  {
   "cell_type": "code",
   "execution_count": null,
   "id": "16213cc4-7cbb-4548-bfc8-bb8c40b7e74b",
   "metadata": {},
   "outputs": [],
   "source": []
  }
 ],
 "metadata": {
  "kernelspec": {
   "display_name": "Python [conda env:base] *",
   "language": "python",
   "name": "conda-base-py"
  },
  "language_info": {
   "codemirror_mode": {
    "name": "ipython",
    "version": 3
   },
   "file_extension": ".py",
   "mimetype": "text/x-python",
   "name": "python",
   "nbconvert_exporter": "python",
   "pygments_lexer": "ipython3",
   "version": "3.12.7"
  }
 },
 "nbformat": 4,
 "nbformat_minor": 5
}
