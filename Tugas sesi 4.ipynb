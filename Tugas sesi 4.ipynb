{
 "cells": [
  {
   "cell_type": "markdown",
   "id": "e36629b3-2cc3-40aa-b098-71768464c50d",
   "metadata": {},
   "source": [
    "<h1>OPERATOR ARITMATIKA</h1>"
   ]
  },
  {
   "cell_type": "code",
   "execution_count": 37,
   "id": "16f23da4-18be-4ad9-b021-b33988a8db56",
   "metadata": {},
   "outputs": [
    {
     "name": "stdout",
     "output_type": "stream",
     "text": [
      "Hasil Pembagian :  12 / 4 = 3.0\n",
      "Total Apel Budi : 20\n"
     ]
    }
   ],
   "source": [
    "# Budi memiliki 12 apel dan ingin membaginya dengan 4 temannya secara merata. Berapa apel yang diterima setiap teman?\n",
    "# Jika Budi mendapatkan tambahan 8 apel, berapa total apel yang dimilikinyasekarang?\n",
    "\n",
    "Apel = 12\n",
    "Teman = 4\n",
    "\n",
    "Apel_untuk_Teman = Apel / Teman\n",
    "\n",
    "print(\"Hasil Pembagian : \",Apel,\"/\",Teman,\"=\",Apel_untuk_Teman)\n",
    "\n",
    "Penambahan_Apel = 8\n",
    "Apel += Penambahan_Apel\n",
    "\n",
    "print(\"Total Apel Budi :\",Apel)"
   ]
  },
  {
   "cell_type": "markdown",
   "id": "61e8ad3a-16e2-4ff9-970a-27a2f978ca65",
   "metadata": {},
   "source": [
    "<h1>OPERATOR PERBANDINGAN</h1>"
   ]
  },
  {
   "cell_type": "code",
   "execution_count": 15,
   "id": "708e85da-b08f-4117-998c-ba05e55dd9eb",
   "metadata": {},
   "outputs": [
    {
     "name": "stdout",
     "output_type": "stream",
     "text": [
      "Apakah 160 Lebih Tinggi 165 ?: False\n"
     ]
    }
   ],
   "source": [
    "#Siti memiliki tinggi 160 cm, sedangkan Andi 165 cm. Gunakan operator perbandingan untuk mengetahui siapa yang lebih tinggi.\n",
    "\n",
    "Siti = 160\n",
    "Andi = 165\n",
    "\n",
    "print(\"Apakah\",Siti,\"Lebih Tinggi\",Andi,\"?:\", Siti>Andi)"
   ]
  },
  {
   "cell_type": "markdown",
   "id": "2cb65515-9f5d-47d9-89b0-728f1d276b41",
   "metadata": {},
   "source": [
    "<h1>OPERATOR LOGIKA</h1>"
   ]
  },
  {
   "cell_type": "code",
   "execution_count": 32,
   "id": "7a7661ce-0a27-4c57-bd57-96465cd67e3f",
   "metadata": {},
   "outputs": [
    {
     "name": "stdout",
     "output_type": "stream",
     "text": [
      "Apakah Budi Bisa Bermain Di Luar Jika Cuaca Cerah dan Pr Selesai : True\n",
      "Apakah Budi Bisa Bermain Di Luar Jika Cuaca Tidak Cerah dan Pr Belum Selesai : False\n"
     ]
    }
   ],
   "source": [
    "#Budi hanya bisa bermain di luar jika cuaca cerah dan dia sudah menyelesaikan PR-nya. Gunakan operator logika untuk mengevaluasi apakah Budi bisa bermain.\n",
    "\n",
    "Cuaca_Cerah = True\n",
    "Pr_Selesai = True\n",
    "\n",
    "print(\"Apakah Budi Bisa Bermain Di Luar Jika Cuaca Cerah dan Pr Selesai :\",not (Cuaca_Cerah %2==0 and Pr_Selesai))\n",
    "print(\"Apakah Budi Bisa Bermain Di Luar Jika Cuaca Tidak Cerah dan Pr Belum Selesai :\",(Cuaca_Cerah %2==0 and Pr_Selesai))\n"
   ]
  },
  {
   "cell_type": "markdown",
   "id": "87ad5d7b-b448-4ab3-8054-caff2526eb7b",
   "metadata": {},
   "source": [
    "<h1>OPERATOR BITWISE</h1>"
   ]
  },
  {
   "cell_type": "code",
   "execution_count": 48,
   "id": "58a5c114-480e-485b-852f-38016ff6cb06",
   "metadata": {},
   "outputs": [
    {
     "name": "stdout",
     "output_type": "stream",
     "text": [
      "0b110\n",
      "0b11\n",
      "------------&\n",
      "0b10 = 2\n",
      "\n",
      "0b110\n",
      "0b11\n",
      "------------|\n",
      "0b111 = 7\n",
      "\n",
      "0b110\n",
      "0b11\n",
      "------------^\n",
      "0b101 = 5\n"
     ]
    }
   ],
   "source": [
    "#Jika angka 6 direpresentasikan dalam biner sebagai 0110 dan angka 3 sebagai 0011, hitung hasil operasi AND, OR, dan XOR.\n",
    "\n",
    "no1 = 6\n",
    "no2 = 3\n",
    "\n",
    "print(bin(no1))\n",
    "print(bin(no2))\n",
    "print(\"------------&\")\n",
    "print(bin(no1 & no2), \"=\", no1 & no2)\n",
    "print()\n",
    "print(bin(no1))\n",
    "print(bin(no2))\n",
    "print(\"------------|\")\n",
    "print(bin(no1|no2), \"=\", no1 | no2)\n",
    "print()\n",
    "print(bin(no1))\n",
    "print(bin(no2))\n",
    "print(\"------------^\")\n",
    "print(bin(no1 ^ no2), \"=\", no1 ^ no2)"
   ]
  },
  {
   "cell_type": "markdown",
   "id": "b6b3d1a2-ce8f-4867-abcc-85905653b26b",
   "metadata": {},
   "source": [
    "<h1>OPERATOR PENUGASAN</h1>"
   ]
  },
  {
   "cell_type": "code",
   "execution_count": 53,
   "id": "d58e8676-2687-4dd6-a5d5-b5aa88c2a031",
   "metadata": {},
   "outputs": [
    {
     "name": "stdout",
     "output_type": "stream",
     "text": [
      "Nilai Saldo Pertama adalah : 50000\n",
      "lalu ditambahkan saldo sehingga Bertamabah sebanyak : 70000\n",
      "Lalu Siswa Membeli Paket internet : 40000\n",
      "Jadi Sisa Saldo Adalah 40000\n"
     ]
    }
   ],
   "source": [
    "#Seorang siswa memiliki saldo pulsa Rp50.000, lalu dia mengisi ulang Rp20.000.Setelah itu, dia membeli paket internet seharga Rp30.000. Gunakan operator penugasan untuk menghitung sisa saldo pulsa.\n",
    "\n",
    "Saldo  =50000\n",
    "print(\"Nilai Saldo Pertama adalah :\", Saldo)\n",
    "Saldo +=20000\n",
    "print(\"lalu ditambahkan saldo sehingga Bertamabah sebanyak :\", Saldo)\n",
    "Saldo -=30000\n",
    "print(\"Lalu Siswa Membeli Paket internet :\",Saldo)\n",
    "\n",
    "Sisa_Saldo = Saldo\n",
    "print(\"Jadi Sisa Saldo Adalah\", Saldo)"
   ]
  },
  {
   "cell_type": "markdown",
   "id": "c3ac5a2e-0a2e-4b67-a39b-2d147242739a",
   "metadata": {},
   "source": [
    "<h1>OPERATOE KEANGGOTAAN</h1>"
   ]
  },
  {
   "cell_type": "code",
   "execution_count": 7,
   "id": "78b42fd7-cd41-4729-9cb0-1aa52cf2a050",
   "metadata": {},
   "outputs": [
    {
     "name": "stdout",
     "output_type": "stream",
     "text": [
      "False\n",
      "True\n"
     ]
    }
   ],
   "source": [
    "#Daftar peserta lomba coding adalah [\"Andi\", \"Budi\", \"Citra\", \"Dewi\"]. Gunakan operator keanggotaan untuk mengecek apakah \"Eka\" terdaftar sebagai peserta. Sebuah kalimat berbunyi \"Saya suka belajar Python\". Gunakan operator keanggotaan untuk mengecek apakah kata \"Python\" ada dalam kalimat tersebut.\n",
    "Peserta_Lomba_Coding = [\"Andi\", \"Budi\", \"Citra\",\"Dewi\"]\n",
    "print(\"Eka\" in Peserta_Lomba_Coding )\n",
    "\n",
    "Lomba = \"Saya Suka Belajar Phyton\"\n",
    "print(\"Phyton\" in Lomba)"
   ]
  },
  {
   "cell_type": "markdown",
   "id": "ddd65b69-e51c-47f3-9ce6-dfef3fee86d5",
   "metadata": {},
   "source": [
    "<h1>OPERATIR IDENTITAS</h1>"
   ]
  },
  {
   "cell_type": "code",
   "execution_count": 10,
   "id": "39e367b5-f5bd-45e5-850d-f4b67fad46c4",
   "metadata": {},
   "outputs": [
    {
     "name": "stdout",
     "output_type": "stream",
     "text": [
      "Alamat Memori X :  140721156991512\n",
      "Alamat Memori Y :  140721157051856\n",
      "Alamat Memori XY :  140721157051856\n",
      "False\n",
      "True\n",
      "True\n"
     ]
    }
   ],
   "source": [
    "x = 4\n",
    "y = \"4\"\n",
    "xy = y\n",
    "\n",
    "print(\"Alamat Memori X : \", id (x))\n",
    "print(\"Alamat Memori Y : \",id (y))\n",
    "print(\"Alamat Memori XY : \", id (xy))\n",
    "\n",
    "print(x is y)\n",
    "print(y is xy)\n",
    "print(x is not y)"
   ]
  },
  {
   "cell_type": "markdown",
   "id": "a97ef036-b644-4f09-8c2e-921ffc01dfd8",
   "metadata": {},
   "source": [
    "<h1>OPERATOR TERNARY</h1>"
   ]
  },
  {
   "cell_type": "code",
   "execution_count": 35,
   "id": "7190188e-a252-4b88-a19c-f5d84a705cc9",
   "metadata": {},
   "outputs": [
    {
     "name": "stdin",
     "output_type": "stream",
     "text": [
      "Isikan Bilangan :  90\n"
     ]
    },
    {
     "name": "stdout",
     "output_type": "stream",
     "text": [
      "90 Merupakan Nilai Kurang Dari 100 atau sama dengan\n"
     ]
    },
    {
     "name": "stdin",
     "output_type": "stream",
     "text": [
      "Isikan Bilangan :  80\n"
     ]
    },
    {
     "name": "stdout",
     "output_type": "stream",
     "text": [
      "80 Hasilnya Lulus\n"
     ]
    }
   ],
   "source": [
    "Angka = int(input(\"Isikan Bilangan : \"))\n",
    "oddEven = \"Lebih dari 100\" if Angka > 100 else \"Kurang Dari 100 atau sama dengan\"\n",
    "print(Angka, \"Merupakan Nilai\", oddEven)\n",
    "\n",
    "Nilai = int(input(\"Isikan Bilangan : \"))\n",
    "oddEven = \"Lulus\" if Angka > 70 else \"Tidak Lulus\"\n",
    "print(Nilai, \"Hasilnya\", oddEven)"
   ]
  }
 ],
 "metadata": {
  "kernelspec": {
   "display_name": "Python [conda env:base] *",
   "language": "python",
   "name": "conda-base-py"
  },
  "language_info": {
   "codemirror_mode": {
    "name": "ipython",
    "version": 3
   },
   "file_extension": ".py",
   "mimetype": "text/x-python",
   "name": "python",
   "nbconvert_exporter": "python",
   "pygments_lexer": "ipython3",
   "version": "3.12.7"
  }
 },
 "nbformat": 4,
 "nbformat_minor": 5
}
